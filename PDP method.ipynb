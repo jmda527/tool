{
 "cells": [
  {
   "cell_type": "code",
   "execution_count": 1,
   "metadata": {},
   "outputs": [],
   "source": [
    "import pandas as pd\n",
    "import numpy as np\n",
    "from scipy.stats import mode\n",
    "import matplotlib.pyplot as plt"
   ]
  },
  {
   "cell_type": "markdown",
   "metadata": {},
   "source": [
    "# import data"
   ]
  },
  {
   "cell_type": "code",
   "execution_count": 2,
   "metadata": {},
   "outputs": [],
   "source": [
    "df=pd.read_excel(r'C:\\Users\\User\\Downloads\\v8-2.xlsx')"
   ]
  },
  {
   "cell_type": "markdown",
   "metadata": {},
   "source": [
    "# preproccessing"
   ]
  },
  {
   "cell_type": "code",
   "execution_count": 3,
   "metadata": {},
   "outputs": [],
   "source": [
    "df = df[df['P/S(gf/cm)'].isnull() == 0]\n",
    "df = df[df['desmear time'].isnull() == 0]\n",
    "df = df.reset_index(drop=True)"
   ]
  },
  {
   "cell_type": "code",
   "execution_count": 4,
   "metadata": {},
   "outputs": [
    {
     "name": "stdout",
     "output_type": "stream",
     "text": [
      "<class 'pandas.core.frame.DataFrame'>\n",
      "RangeIndex: 169 entries, 0 to 168\n",
      "Data columns (total 7 columns):\n",
      "surface              169 non-null object\n",
      "type by SEM          143 non-null object\n",
      "type by Alfa-step    143 non-null object\n",
      "desmear time         169 non-null object\n",
      "Rq(um)               130 non-null float64\n",
      "P/S(gf/cm)           169 non-null float64\n",
      "version              169 non-null int64\n",
      "dtypes: float64(2), int64(1), object(4)\n",
      "memory usage: 9.3+ KB\n"
     ]
    }
   ],
   "source": [
    "df.info()"
   ]
  },
  {
   "cell_type": "code",
   "execution_count": 5,
   "metadata": {},
   "outputs": [],
   "source": [
    "df['type by SEM'] = df['type by SEM'].fillna(mode(df['type by SEM'])[0][0])\n",
    "df['type by Alfa-step'] = df['type by Alfa-step'].fillna(df['type by SEM'])\n",
    "df['Rq(um)'] = df['Rq(um)'].fillna(df['Rq(um)'].mean())\n",
    "df['desmear time'] = df['desmear time'].str[0:-3].astype('float')"
   ]
  },
  {
   "cell_type": "code",
   "execution_count": 6,
   "metadata": {},
   "outputs": [],
   "source": [
    "df['surface']=df['surface'].map({'A':0,'B':1})\n",
    "df['type by SEM']=df['type by SEM'].map({'A':1,'B':2,'C':3,'D':4})\n",
    "df['type by Alfa-step']=df['type by Alfa-step'].map({'A':1,'B':2,'C':3,'D':4})"
   ]
  },
  {
   "cell_type": "code",
   "execution_count": 7,
   "metadata": {},
   "outputs": [],
   "source": [
    "data_y = df['P/S(gf/cm)']\n",
    "data_x = df.drop(columns='P/S(gf/cm)')"
   ]
  },
  {
   "cell_type": "markdown",
   "metadata": {},
   "source": [
    "# model fitting"
   ]
  },
  {
   "cell_type": "code",
   "execution_count": 8,
   "metadata": {},
   "outputs": [],
   "source": [
    "from sklearn.model_selection import GridSearchCV\n",
    "from sklearn.ensemble import RandomForestRegressor"
   ]
  },
  {
   "cell_type": "code",
   "execution_count": 9,
   "metadata": {},
   "outputs": [],
   "source": [
    "model_jmda = RandomForestRegressor()\n",
    "para = {'n_estimators':range(1,30),'max_depth':range(1,20)}\n",
    "grid = GridSearchCV(model_jmda,para,cv=3,scoring='neg_mean_squared_error')"
   ]
  },
  {
   "cell_type": "code",
   "execution_count": 10,
   "metadata": {},
   "outputs": [
    {
     "name": "stderr",
     "output_type": "stream",
     "text": [
      "C:\\Users\\User\\Anaconda3\\lib\\site-packages\\sklearn\\model_selection\\_search.py:814: DeprecationWarning: The default of the `iid` parameter will change from True to False in version 0.22 and will be removed in 0.24. This will change numeric results when test-set sizes are unequal.\n",
      "  DeprecationWarning)\n"
     ]
    },
    {
     "data": {
      "text/plain": [
       "GridSearchCV(cv=3, error_score='raise-deprecating',\n",
       "             estimator=RandomForestRegressor(bootstrap=True, criterion='mse',\n",
       "                                             max_depth=None,\n",
       "                                             max_features='auto',\n",
       "                                             max_leaf_nodes=None,\n",
       "                                             min_impurity_decrease=0.0,\n",
       "                                             min_impurity_split=None,\n",
       "                                             min_samples_leaf=1,\n",
       "                                             min_samples_split=2,\n",
       "                                             min_weight_fraction_leaf=0.0,\n",
       "                                             n_estimators='warn', n_jobs=None,\n",
       "                                             oob_score=False, random_state=None,\n",
       "                                             verbose=0, warm_start=False),\n",
       "             iid='warn', n_jobs=None,\n",
       "             param_grid={'max_depth': range(1, 20),\n",
       "                         'n_estimators': range(1, 30)},\n",
       "             pre_dispatch='2*n_jobs', refit=True, return_train_score=False,\n",
       "             scoring='neg_mean_squared_error', verbose=0)"
      ]
     },
     "execution_count": 10,
     "metadata": {},
     "output_type": "execute_result"
    }
   ],
   "source": [
    "grid.fit(data_x,data_y)"
   ]
  },
  {
   "cell_type": "code",
   "execution_count": 11,
   "metadata": {},
   "outputs": [
    {
     "data": {
      "text/plain": [
       "({'max_depth': 3, 'n_estimators': 6}, -24814.32933564111)"
      ]
     },
     "execution_count": 11,
     "metadata": {},
     "output_type": "execute_result"
    }
   ],
   "source": [
    "grid.best_params_,grid.best_score_"
   ]
  },
  {
   "cell_type": "code",
   "execution_count": 12,
   "metadata": {},
   "outputs": [
    {
     "data": {
      "text/html": [
       "<div>\n",
       "<style scoped>\n",
       "    .dataframe tbody tr th:only-of-type {\n",
       "        vertical-align: middle;\n",
       "    }\n",
       "\n",
       "    .dataframe tbody tr th {\n",
       "        vertical-align: top;\n",
       "    }\n",
       "\n",
       "    .dataframe thead th {\n",
       "        text-align: right;\n",
       "    }\n",
       "</style>\n",
       "<table border=\"1\" class=\"dataframe\">\n",
       "  <thead>\n",
       "    <tr style=\"text-align: right;\">\n",
       "      <th></th>\n",
       "      <th>param_max_depth</th>\n",
       "      <th>param_n_estimators</th>\n",
       "      <th>mean_test_score</th>\n",
       "    </tr>\n",
       "  </thead>\n",
       "  <tbody>\n",
       "    <tr>\n",
       "      <th>63</th>\n",
       "      <td>3</td>\n",
       "      <td>6</td>\n",
       "      <td>-24814.329336</td>\n",
       "    </tr>\n",
       "    <tr>\n",
       "      <th>62</th>\n",
       "      <td>3</td>\n",
       "      <td>5</td>\n",
       "      <td>-24879.349787</td>\n",
       "    </tr>\n",
       "    <tr>\n",
       "      <th>58</th>\n",
       "      <td>3</td>\n",
       "      <td>1</td>\n",
       "      <td>-25486.640835</td>\n",
       "    </tr>\n",
       "    <tr>\n",
       "      <th>73</th>\n",
       "      <td>3</td>\n",
       "      <td>16</td>\n",
       "      <td>-25648.286202</td>\n",
       "    </tr>\n",
       "    <tr>\n",
       "      <th>79</th>\n",
       "      <td>3</td>\n",
       "      <td>22</td>\n",
       "      <td>-26089.382846</td>\n",
       "    </tr>\n",
       "  </tbody>\n",
       "</table>\n",
       "</div>"
      ],
      "text/plain": [
       "   param_max_depth param_n_estimators  mean_test_score\n",
       "63               3                  6    -24814.329336\n",
       "62               3                  5    -24879.349787\n",
       "58               3                  1    -25486.640835\n",
       "73               3                 16    -25648.286202\n",
       "79               3                 22    -26089.382846"
      ]
     },
     "execution_count": 12,
     "metadata": {},
     "output_type": "execute_result"
    }
   ],
   "source": [
    "cv_detail = pd.DataFrame(grid.cv_results_)[['param_max_depth','param_n_estimators','mean_test_score']]\n",
    "cv_detail.sort_values('mean_test_score',ascending=False).head(5)"
   ]
  },
  {
   "cell_type": "code",
   "execution_count": 13,
   "metadata": {},
   "outputs": [],
   "source": [
    "model_jmda = RandomForestRegressor(max_depth=3,n_estimators=20)"
   ]
  },
  {
   "cell_type": "code",
   "execution_count": 14,
   "metadata": {},
   "outputs": [
    {
     "data": {
      "text/plain": [
       "RandomForestRegressor(bootstrap=True, criterion='mse', max_depth=3,\n",
       "                      max_features='auto', max_leaf_nodes=None,\n",
       "                      min_impurity_decrease=0.0, min_impurity_split=None,\n",
       "                      min_samples_leaf=1, min_samples_split=2,\n",
       "                      min_weight_fraction_leaf=0.0, n_estimators=20,\n",
       "                      n_jobs=None, oob_score=False, random_state=None,\n",
       "                      verbose=0, warm_start=False)"
      ]
     },
     "execution_count": 14,
     "metadata": {},
     "output_type": "execute_result"
    }
   ],
   "source": [
    "model_jmda.fit(data_x,data_y)"
   ]
  },
  {
   "cell_type": "markdown",
   "metadata": {},
   "source": [
    "# partial plot method"
   ]
  },
  {
   "cell_type": "code",
   "execution_count": 20,
   "metadata": {},
   "outputs": [],
   "source": [
    "from pdpbox import pdp\n",
    "from sklearn.mixture import GaussianMixture"
   ]
  },
  {
   "cell_type": "code",
   "execution_count": 24,
   "metadata": {},
   "outputs": [
    {
     "data": {
      "text/plain": [
       "Text(0.5, 0, 'type by SEM')"
      ]
     },
     "execution_count": 24,
     "metadata": {},
     "output_type": "execute_result"
    },
    {
     "data": {
      "image/png": "[encoded data removed]",
      "text/plain": [
       "<Figure size 432x288 with 1 Axes>"
      ]
     },
     "metadata": {
      "needs_background": "light"
     },
     "output_type": "display_data"
    }
   ],
   "source": [
    "column = 'type by SEM'\n",
    "\n",
    "#1.predict y with different x values\n",
    "data_1 = data_x.copy()\n",
    "data_1[column] = 1\n",
    "y1 = model_jmda.predict(data_1)\n",
    "data_2 = data_x.copy()\n",
    "data_2[column] = 2\n",
    "y2 = model_jmda.predict(data_2)\n",
    "data_3 = data_x.copy()\n",
    "data_3[column] = 3\n",
    "y3 = model_jmda.predict(data_3)\n",
    "data_4 = data_x.copy()\n",
    "data_4[column] = 4\n",
    "y4 = model_jmda.predict(data_4)\n",
    "\n",
    "#2.normalize\n",
    "y1_n = ((y1/y1)-1)*data_y.mean()\n",
    "y2_n = ((y2/y1)-1)*data_y.mean()\n",
    "y3_n = ((y3/y1)-1)*data_y.mean()\n",
    "y4_n = ((y4/y1)-1)*data_y.mean()\n",
    "\n",
    "#3.Gauss distribution fitting\n",
    "G1 = GaussianMixture().fit(y1_n.reshape(-1,1))\n",
    "G2 = GaussianMixture().fit(y2_n.reshape(-1,1))\n",
    "G3 = GaussianMixture().fit(y3_n.reshape(-1,1))\n",
    "G4 = GaussianMixture().fit(y4_n.reshape(-1,1))\n",
    "\n",
    "#5%(-1std),50%,95%(+1std)\n",
    "Y_mid = np.array([G1.means_[0][0],G2.means_[0][0],G3.means_[0][0],G4.means_[0][0]])\n",
    "Y_std = np.array([np.sqrt(G1.covariances_[0][0][0]),np.sqrt(G2.covariances_[0][0][0]),np.sqrt(G3.covariances_[0][0][0]),np.sqrt(G4.covariances_[0][0][0])])\n",
    "\n",
    "#4.plot\n",
    "plt.plot([1,2,3,4],Y_mid,'o-')\n",
    "plt.fill_between([1,2,3,4],Y_mid+Y_std,Y_mid-Y_std,alpha=0.1,color='blue')\n",
    "plt.axhline(color='red',ls='--')\n",
    "plt.grid()\n",
    "plt.title('PDP for feature\"type by SEM\"')\n",
    "plt.ylim(-100,60)\n",
    "plt.xlabel('type by SEM')"
   ]
  },
  {
   "cell_type": "code",
   "execution_count": 25,
   "metadata": {},
   "outputs": [
    {
     "data": {
      "text/plain": [
       "(<Figure size 1080x684 with 2 Axes>,\n",
       " {'title_ax': <matplotlib.axes._subplots.AxesSubplot at 0x17bf5413550>,\n",
       "  'pdp_ax': <matplotlib.axes._subplots.AxesSubplot at 0x17bf54bf828>})"
      ]
     },
     "execution_count": 25,
     "metadata": {},
     "output_type": "execute_result"
    },
    {
     "data": {
      "image/png": "[encoded data removed]",
      "text/plain": [
       "<Figure size 1080x684 with 2 Axes>"
      ]
     },
     "metadata": {
      "needs_background": "light"
     },
     "output_type": "display_data"
    }
   ],
   "source": [
    "pdp_iso = pdp.pdp_isolate(model_jmda,data_x,model_features=list(data_x.columns),feature='type by SEM',num_grid_points=10)\n",
    "pdp.pdp_plot(pdp_iso,feature_name='type by SEM')"
   ]
  },
  {
   "cell_type": "code",
   "execution_count": null,
   "metadata": {},
   "outputs": [],
   "source": []
  }
 ],
 "metadata": {
  "kernelspec": {
   "display_name": "Python 3",
   "language": "python",
   "name": "python3"
  },
  "language_info": {
   "codemirror_mode": {
    "name": "ipython",
    "version": 3
   },
   "file_extension": ".py",
   "mimetype": "text/x-python",
   "name": "python",
   "nbconvert_exporter": "python",
   "pygments_lexer": "ipython3",
   "version": "3.7.3"
  }
 },
 "nbformat": 4,
 "nbformat_minor": 2
}
